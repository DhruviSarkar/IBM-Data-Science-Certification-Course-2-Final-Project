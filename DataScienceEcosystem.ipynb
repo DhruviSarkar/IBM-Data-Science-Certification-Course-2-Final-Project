{
  "metadata": {
    "kernelspec": {
      "name": "python",
      "display_name": "Python (Pyodide)",
      "language": "python"
    },
    "language_info": {
      "codemirror_mode": {
        "name": "python",
        "version": 3
      },
      "file_extension": ".py",
      "mimetype": "text/x-python",
      "name": "python",
      "nbconvert_exporter": "python",
      "pygments_lexer": "ipython3",
      "version": "3.8"
    }
  },
  "nbformat_minor": 5,
  "nbformat": 4,
  "cells": [
    {
      "id": "ad90ef86-0ed3-4854-86e0-09dec88164dc",
      "cell_type": "markdown",
      "source": "# Data Science Tools and Ecosystem",
      "metadata": {}
    },
    {
      "id": "b7932be6-bbbd-4a1f-936f-c229d8d1b505",
      "cell_type": "markdown",
      "source": "In this notebook, Data Science Tools and Ecosystem are summarized.",
      "metadata": {}
    },
    {
      "id": "728a001f-2830-4b43-96e4-181a12174dd7",
      "cell_type": "markdown",
      "source": "**Objectives:**\n\n- List popular languages for Data Science  \n- List commonly used libraries for Data Science  \n- Create tables in Markdown cells  \n- Perform arithmetic operations in code cells  \n- Convert units using Python code\n",
      "metadata": {}
    },
    {
      "id": "f913ae7f-2976-4e2a-b47f-0dee11d330b9",
      "cell_type": "markdown",
      "source": "Some of the popular languages that Data Scientists use are:\n1. Python\n2. SQL\n3. R\n4. Java",
      "metadata": {}
    },
    {
      "id": "54b66686-5d5d-41cf-962a-b62c3f599465",
      "cell_type": "markdown",
      "source": "Some of the commonly used libraries used by Data Scientists include:\n1. NumPy\n2. Matplotlib\n3. Seaborn",
      "metadata": {}
    },
    {
      "id": "6dfe6806-56c6-4cb0-ae0d-501fdcfe17b7",
      "cell_type": "markdown",
      "source": "| Data Science Tools          |\n|----------------------------|\n| Jupyter Notebook           |\n| RStudio                    |\n| Apache Spark.              |",
      "metadata": {}
    },
    {
      "id": "942f4a13-93f7-48ae-b637-a66bd7f6903f",
      "cell_type": "markdown",
      "source": "### Below are a few examples of evaluating arithmetic expressions in Python.",
      "metadata": {}
    },
    {
      "id": "c8dfc6e3-8a18-456e-98a7-e8f9caa777aa",
      "cell_type": "code",
      "source": "#This a simple arithmetic expression to mutiply then add integers\n(3*4)+5",
      "metadata": {
        "trusted": true
      },
      "outputs": [
        {
          "execution_count": 2,
          "output_type": "execute_result",
          "data": {
            "text/plain": "17"
          },
          "metadata": {}
        }
      ],
      "execution_count": 2
    },
    {
      "id": "c3538789-cb30-4eca-809d-2fc9b8382f39",
      "cell_type": "code",
      "source": " #This will convert 200 minutes to hours by diving by 60\n200/60",
      "metadata": {
        "trusted": true
      },
      "outputs": [
        {
          "execution_count": 3,
          "output_type": "execute_result",
          "data": {
            "text/plain": "3.3333333333333335"
          },
          "metadata": {}
        }
      ],
      "execution_count": 3
    },
    {
      "id": "432c05e4-69e6-4e3e-991b-67de40dc2a89",
      "cell_type": "markdown",
      "source": "## Author  \nDhruvi Sarkar",
      "metadata": {}
    }
  ]
}